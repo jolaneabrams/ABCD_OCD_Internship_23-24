{
  "nbformat": 4,
  "nbformat_minor": 0,
  "metadata": {
    "colab": {
      "provenance": [],
      "authorship_tag": "ABX9TyPR2z/4BiUB3i8y3ARzGQff",
      "include_colab_link": true
    },
    "kernelspec": {
      "name": "python3",
      "display_name": "Python 3"
    },
    "language_info": {
      "name": "python"
    }
  },
  "cells": [
    {
      "cell_type": "markdown",
      "metadata": {
        "id": "view-in-github",
        "colab_type": "text"
      },
      "source": [
        "<a href=\"https://colab.research.google.com/github/NkdPngn/JannComplexity24/blob/main/DemogQC.ipynb\" target=\"_parent\"><img src=\"https://colab.research.google.com/assets/colab-badge.svg\" alt=\"Open In Colab\"/></a>"
      ]
    },
    {
      "cell_type": "markdown",
      "source": [
        "First, check your cohort...\n",
        "\n",
        "* save yourself heartache and headaches by checking whether your control and experimental subjects are actually as matched as you think*  "
      ],
      "metadata": {
        "id": "cJ5V1oMkWDNp"
      }
    },
    {
      "cell_type": "code",
      "execution_count": null,
      "metadata": {
        "id": "3UlbKKkLVgNW"
      },
      "outputs": [],
      "source": [
        "# Neuroimaging Cohort QC Tool\n",
        "# Created by Jolane Abrams, based on USC fMRI research experience\n",
        "\n",
        "import pandas as pd\n",
        "import numpy as np\n",
        "import seaborn as sns\n",
        "from scipy import stats\n",
        "import matplotlib.pyplot as plt\n",
        "from google.colab import files\n",
        "\n",
        "def covariate_qc(df):\n",
        "    \"\"\"Automated demographic checks for neuroimaging studies.\"\"\"\n",
        "    # Statistical tests\n",
        "    results = {}\n",
        "    for col in ['age', 'puberty']:  # Add covariates\n",
        "        if col in df.columns:\n",
        "            # T-test for continuous variables\n",
        "            t, p = stats.ttest_ind(\n",
        "                df[col][df.group == 1],\n",
        "                df[col][df.group == 2],\n",
        "                nan_policy='omit'\n",
        "            )\n",
        "            results[col] = {'p': round(p, 4), 'test': 't-test'}\n",
        "\n",
        "    # Visualization\n",
        "    plt.figure(figsize=(12, 4))\n",
        "    plt.subplot(121)\n",
        "    sns.boxplot(x='group', y='age', data=df)\n",
        "    plt.title(f\"Age (p={results['age']['p']})\")\n",
        "\n",
        "    plt.subplot(122)\n",
        "    sns.histplot(data=df, x='puberty', hue='group', bins=5)\n",
        "    plt.title(f\"Puberty Stage (p={results['puberty']['p']})\")\n",
        "\n",
        "    return results\n",
        "\n",
        "# Example with simulated data\n",
        "data = pd.DataFrame({\n",
        "    'group': [1]*50 + [2]*50,\n",
        "    'age': np.concatenate([\n",
        "        np.random.normal(20, 2, 50),  # Group 1: mean age 20\n",
        "        np.random.normal(23, 2, 50)   # Group 2: mean age 23 (intentional mismatch)\n",
        "    ]),\n",
        "    'puberty': np.random.randint(1, 6, 100)\n",
        "})\n",
        "\n",
        "# Run analysis\n",
        "results = covariate_qc(data)\n",
        "plt.show()\n",
        "print(\"Statistical results:\\n\", results)\n",
        "\n",
        "# @title Upload your own data (CSV/Excel)\n",
        "uploaded = files.upload()\n",
        "if uploaded:\n",
        "    df = pd.read_csv(next(iter(uploaded.keys())))\n",
        "    user_results = covariate_qc(df)"
      ]
    }
  ]
}